{
  "nbformat": 4,
  "nbformat_minor": 0,
  "metadata": {
    "colab": {
      "provenance": [],
      "collapsed_sections": [
        "NnxY9gfX-4hR",
        "tUVG0dHnE5-8",
        "tWM3rqRcQiYy",
        "lpHs7tXGQdHC",
        "6RfgqkAcQWGD",
        "aETSye_TQnjW",
        "vcL_zbILRYiC"
      ]
    },
    "kernelspec": {
      "name": "python3",
      "display_name": "Python 3"
    },
    "language_info": {
      "name": "python"
    }
  },
  "cells": [
    {
      "cell_type": "markdown",
      "source": [
        "#***LINEAR ALGEBRA***"
      ],
      "metadata": {
        "id": "dnHTBGmH-eaR"
      }
    },
    {
      "cell_type": "markdown",
      "source": [
        "##SCALAR AND VECTOR"
      ],
      "metadata": {
        "id": "NnxY9gfX-4hR"
      }
    },
    {
      "cell_type": "code",
      "source": [
        "import numpy as np\n",
        "\n",
        "scalar=12\n",
        "\n",
        "vector=np.array([1,2,3,4])\n",
        "\n",
        "scaled_vector=scalar*vector\n",
        "\n",
        "print(\"Scalar:\",scalar,\"\\nVector:\",vector,\"\\nScaled_Vector:\",scaled_vector)\n"
      ],
      "metadata": {
        "colab": {
          "base_uri": "https://localhost:8080/"
        },
        "id": "lxDwKxhG-7A8",
        "outputId": "e2121ec1-07b4-44bc-b41f-abf09af4eeda"
      },
      "execution_count": 4,
      "outputs": [
        {
          "output_type": "stream",
          "name": "stdout",
          "text": [
            "Scalar: 12 \n",
            "Vector: [1 2 3 4] \n",
            "Scaled_Vector: [12 24 36 48]\n"
          ]
        }
      ]
    },
    {
      "cell_type": "code",
      "source": [
        "vctr=np.array([4,5,6])\n",
        "print(3*vctr)"
      ],
      "metadata": {
        "colab": {
          "base_uri": "https://localhost:8080/"
        },
        "id": "g3S12e94Eg8Y",
        "outputId": "e8c30ce2-ad16-45b8-8726-63909964171c"
      },
      "execution_count": 6,
      "outputs": [
        {
          "output_type": "stream",
          "name": "stdout",
          "text": [
            "[12 15 18]\n"
          ]
        }
      ]
    },
    {
      "cell_type": "markdown",
      "source": [
        "##VECTOR OPERATION"
      ],
      "metadata": {
        "id": "tUVG0dHnE5-8"
      }
    },
    {
      "cell_type": "code",
      "source": [
        "import numpy as np\n",
        "\n",
        "v1=np.array([1,2,3])\n",
        "v2=np.array([4,5,6])\n",
        "\n",
        "print(v1+v2)\n",
        "print(v1-v2)"
      ],
      "metadata": {
        "colab": {
          "base_uri": "https://localhost:8080/"
        },
        "id": "pWp4JEc_E7wE",
        "outputId": "0797622b-bf1c-488a-dd23-0c797d81050f"
      },
      "execution_count": 7,
      "outputs": [
        {
          "output_type": "stream",
          "name": "stdout",
          "text": [
            "[5 7 9]\n",
            "[-3 -3 -3]\n"
          ]
        }
      ]
    },
    {
      "cell_type": "code",
      "source": [
        "v1=np.array([10,20])\n",
        "v2=np.array([5,15])\n",
        "\n",
        "print(v1+v2)\n",
        "print(v1-v2)"
      ],
      "metadata": {
        "colab": {
          "base_uri": "https://localhost:8080/"
        },
        "id": "FPoyEt1NFG9t",
        "outputId": "8e52afa5-78e8-4319-8b86-1ec5bcb21452"
      },
      "execution_count": 8,
      "outputs": [
        {
          "output_type": "stream",
          "name": "stdout",
          "text": [
            "[15 35]\n",
            "[5 5]\n"
          ]
        }
      ]
    },
    {
      "cell_type": "markdown",
      "source": [
        "##Matrix Creation and Basic Operations"
      ],
      "metadata": {
        "id": "g3P4wT6gFiof"
      }
    },
    {
      "cell_type": "markdown",
      "source": [
        "###basic operation"
      ],
      "metadata": {
        "id": "tWM3rqRcQiYy"
      }
    },
    {
      "cell_type": "code",
      "source": [
        "m1=np.array([[1,2],[3,4]])\n",
        "m2=np.array([[5,6],[7,8]])\n",
        "\n",
        "print(m1,\"\\n\\n\",m2,\"\\n\")\n",
        "print(m1+m2,\"\\n\")\n",
        "print(m1-m2,\"\\n\")\n",
        "print(np.dot(m1,m2),\"\\n\")\n",
        "print(m1*m1)"
      ],
      "metadata": {
        "colab": {
          "base_uri": "https://localhost:8080/"
        },
        "id": "D4_p5bnQFmPJ",
        "outputId": "fe672e9f-e821-43b0-cf9a-24fd5525cd4e"
      },
      "execution_count": 37,
      "outputs": [
        {
          "output_type": "stream",
          "name": "stdout",
          "text": [
            "[[1 2]\n",
            " [3 4]] \n",
            "\n",
            " [[5 6]\n",
            " [7 8]] \n",
            "\n",
            "[[ 6  8]\n",
            " [10 12]] \n",
            "\n",
            "[[-4 -4]\n",
            " [-4 -4]] \n",
            "\n",
            "[[19 22]\n",
            " [43 50]] \n",
            "\n",
            "[[ 1  4]\n",
            " [ 9 16]]\n"
          ]
        }
      ]
    },
    {
      "cell_type": "markdown",
      "source": [
        "###3*3 Matrix\n"
      ],
      "metadata": {
        "id": "lpHs7tXGQdHC"
      }
    },
    {
      "cell_type": "code",
      "source": [
        "m1=np.array([[[1,2,3],[4,5,6],[1,2,3]]])\n",
        "m2=np.array([[[1,2,3],[2,1,2],[1,2,3]]])\n",
        "\n",
        "dot=np.dot(m1,m2)\n",
        "print(dot)"
      ],
      "metadata": {
        "colab": {
          "base_uri": "https://localhost:8080/"
        },
        "id": "9MvSgBUAKI7u",
        "outputId": "936e476f-385d-4d33-de9f-c15f037be81d"
      },
      "execution_count": 35,
      "outputs": [
        {
          "output_type": "stream",
          "name": "stdout",
          "text": [
            "[[[[ 8 10 16]]\n",
            "\n",
            "  [[20 25 40]]\n",
            "\n",
            "  [[ 8 10 16]]]]\n"
          ]
        }
      ]
    },
    {
      "cell_type": "markdown",
      "source": [
        "###Matrix multipliaction scratch"
      ],
      "metadata": {
        "id": "6RfgqkAcQWGD"
      }
    },
    {
      "cell_type": "code",
      "source": [
        "m1=np.array([[1,2],[2,3]])\n",
        "m2=np.array([[1,2],[2,3]])\n",
        "\n",
        "i1=(m1[0,0]*m2[0,0])+(m1[0,1]*m2[0,1])\n",
        "i2=(m1[0,0]*m2[1,0])+(m1[0,1]*m2[1,1])\n",
        "i3=(m1[1,0]*m2[0,0])+(m1[1,1]*m2[0,1])\n",
        "i4=(m1[1,0]*m2[1,0])+(m1[1,1]*m2[1,1])\n",
        "\n",
        "print(i1,\"\\t\",i2,\"\\n\",i3,\"\\t\",i4)\n",
        "print(np.dot(m1,m2))\n"
      ],
      "metadata": {
        "colab": {
          "base_uri": "https://localhost:8080/"
        },
        "id": "-zwaKMwyMH1b",
        "outputId": "f4ee5450-8e39-4794-bf38-1871dbbc0b94"
      },
      "execution_count": 50,
      "outputs": [
        {
          "output_type": "stream",
          "name": "stdout",
          "text": [
            "5 \t 8 \n",
            " 8 \t 13\n",
            "[[ 5  8]\n",
            " [ 8 13]]\n"
          ]
        }
      ]
    },
    {
      "cell_type": "markdown",
      "source": [
        "###Identity and transpose"
      ],
      "metadata": {
        "id": "aETSye_TQnjW"
      }
    },
    {
      "cell_type": "code",
      "source": [
        "identity=np.eye(3,dtype=int)\n",
        "print(identity)\n",
        "\n",
        "m1=np.array([[1,2,3],[4,5,6]])\n",
        "print(m1,\"\\n\\n\",m1.T)"
      ],
      "metadata": {
        "colab": {
          "base_uri": "https://localhost:8080/"
        },
        "id": "I3Yu6vEHQp8i",
        "outputId": "d16e4352-6ed4-41cb-c89f-d6ea3158ee98"
      },
      "execution_count": 58,
      "outputs": [
        {
          "output_type": "stream",
          "name": "stdout",
          "text": [
            "[[1 0 0]\n",
            " [0 1 0]\n",
            " [0 0 1]]\n",
            "[[1 2 3]\n",
            " [4 5 6]] \n",
            "\n",
            " [[1 4]\n",
            " [2 5]\n",
            " [3 6]]\n"
          ]
        }
      ]
    },
    {
      "cell_type": "markdown",
      "source": [
        "###Transpose from scratch"
      ],
      "metadata": {
        "id": "vcL_zbILRYiC"
      }
    },
    {
      "cell_type": "code",
      "source": [
        "a=np.array([[1,2],[3,4]])\n",
        "print(a.T,\"\\n\\n\")\n",
        "\n",
        "b=a[0,1]\n",
        "c=a[1,0]\n",
        "a[1,0]=b\n",
        "a[0,1]=c\n",
        "print(a)"
      ],
      "metadata": {
        "colab": {
          "base_uri": "https://localhost:8080/"
        },
        "id": "rJPWAuMRRaqI",
        "outputId": "224b2ab2-435f-49d6-c10f-4f7d5e3e1ae7"
      },
      "execution_count": 68,
      "outputs": [
        {
          "output_type": "stream",
          "name": "stdout",
          "text": [
            "[[1 3]\n",
            " [2 4]] \n",
            "\n",
            "\n",
            "[[1 3]\n",
            " [2 4]]\n"
          ]
        }
      ]
    },
    {
      "cell_type": "markdown",
      "source": [
        "###Matrix Inverse"
      ],
      "metadata": {
        "id": "2IyZow9cTLFt"
      }
    },
    {
      "cell_type": "code",
      "source": [
        "m1=np.array([[1,2],[3,4]])\n",
        "i=np.linalg.inv(m1)\n",
        "\n",
        "m3=np.dot(m1,i)\n",
        "print(np.round(m3))"
      ],
      "metadata": {
        "colab": {
          "base_uri": "https://localhost:8080/"
        },
        "id": "CWmMjVEhTMrR",
        "outputId": "b955b075-d153-4bb4-f537-dd7285d4703e"
      },
      "execution_count": 81,
      "outputs": [
        {
          "output_type": "stream",
          "name": "stdout",
          "text": [
            "[[1. 0.]\n",
            " [0. 1.]]\n"
          ]
        }
      ]
    }
  ]
}