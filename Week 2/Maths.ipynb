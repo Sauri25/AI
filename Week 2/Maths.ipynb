{
  "nbformat": 4,
  "nbformat_minor": 0,
  "metadata": {
    "colab": {
      "provenance": []
    },
    "kernelspec": {
      "name": "python3",
      "display_name": "Python 3"
    },
    "language_info": {
      "name": "python"
    }
  },
  "cells": [
    {
      "cell_type": "markdown",
      "source": [
        "# DESCRIPTIVE STATS"
      ],
      "metadata": {
        "id": "gxQSGFqjQY_d"
      }
    },
    {
      "cell_type": "markdown",
      "source": [
        "##**Measure of Central Tendency**"
      ],
      "metadata": {
        "id": "CQ9IW0sPQgH4"
      }
    },
    {
      "cell_type": "code",
      "source": [
        "import numpy as np\n",
        "import pandas as pd\n",
        "\n",
        "lst=pd.Series([1,1,2,2,2,3,4,5,6,7,8,9,10,11,12,90])\n",
        "print(\"MEAN:\",int((lst.mean())))\n",
        "print(\"MODE :\" ,lst.mode()[0])\n",
        "print(\"MEDIAN:\",int((lst.median())))"
      ],
      "metadata": {
        "colab": {
          "base_uri": "https://localhost:8080/"
        },
        "id": "8yJc6H9HQeLq",
        "outputId": "03e195df-c402-41b9-f63b-859ab8b085a0"
      },
      "execution_count": 27,
      "outputs": [
        {
          "output_type": "stream",
          "name": "stdout",
          "text": [
            "MEAN: 10\n",
            "MODE : 2\n",
            "MEDIAN: 5\n",
            "Range is: 89\n"
          ]
        }
      ]
    },
    {
      "cell_type": "markdown",
      "source": [
        "##Measure of Variance"
      ],
      "metadata": {
        "id": "3h0scC7ET7KM"
      }
    },
    {
      "cell_type": "code",
      "source": [
        "lst=pd.Series([1,1,2,2,2,3,4,5,6,7,8,9,10,11,12,90])\n",
        "print(\"Range is:\",lst.max()-lst.min())\n",
        "print(\"Standard Deviation:\",lst.std())\n",
        "print(\"Variance is:\",lst.var())"
      ],
      "metadata": {
        "colab": {
          "base_uri": "https://localhost:8080/"
        },
        "id": "JBMYxDRET-Bz",
        "outputId": "39b6d7b9-fb4b-4144-b62b-df6aa4760674"
      },
      "execution_count": 33,
      "outputs": [
        {
          "output_type": "stream",
          "name": "stdout",
          "text": [
            "Range is: 89\n",
            "Standard Deviation: 21.42963291021726\n",
            "Variance is: 459.2291666666667\n"
          ]
        }
      ]
    },
    {
      "cell_type": "markdown",
      "source": [
        "##PLOT"
      ],
      "metadata": {
        "id": "0ixQRHKdXDRw"
      }
    },
    {
      "cell_type": "code",
      "source": [
        "import matplotlib.pyplot as plt\n",
        "\n",
        "data=pd.DataFrame({\"scores\":[1,2,3,5,4,5,6,7,8,9,10,60,80,100]})\n",
        "data.boxplot(column=\"scores\")\n",
        "plt.title(\"Scores\")\n",
        "plt.show()\n",
        "\n",
        "\n",
        "#make donut"
      ],
      "metadata": {
        "colab": {
          "base_uri": "https://localhost:8080/",
          "height": 452
        },
        "id": "TSJbn1JlWgYQ",
        "outputId": "14af387b-5950-4dd8-f8d5-d90514e5bda0"
      },
      "execution_count": 39,
      "outputs": [
        {
          "output_type": "display_data",
          "data": {
            "text/plain": [
              "<Figure size 640x480 with 1 Axes>"
            ],
            "image/png": "[encoded data removed]"
          },
          "metadata": {}
        }
      ]
    }
  ]
}