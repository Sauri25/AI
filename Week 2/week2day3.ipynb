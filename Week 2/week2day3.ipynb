{
  "nbformat": 4,
  "nbformat_minor": 0,
  "metadata": {
    "colab": {
      "provenance": [],
      "collapsed_sections": [
        "llDbKcIZEfCM",
        "EWmjWDpvFLC1",
        "m_kb_yLmGOxI",
        "5nMv3NrlIS8L",
        "c3cHk5nhbH9X",
        "hKm1XaE_jcD9",
        "MOuBhNZakOtc"
      ]
    },
    "kernelspec": {
      "name": "python3",
      "display_name": "Python 3"
    },
    "language_info": {
      "name": "python"
    }
  },
  "cells": [
    {
      "cell_type": "markdown",
      "source": [
        "#PROBABILITY FOR AI"
      ],
      "metadata": {
        "id": "llDbKcIZEfCM"
      }
    },
    {
      "cell_type": "markdown",
      "source": [
        "## Theoritical Probability"
      ],
      "metadata": {
        "id": "EWmjWDpvFLC1"
      }
    },
    {
      "cell_type": "code",
      "source": [
        "total_outcome=6 #Sides of a die\n",
        "favorable_outcome=1  #Rolling any number\n",
        "\n",
        "probability= favorable_outcome/total_outcome\n",
        "print(\"Probability of landing any number\",probability)"
      ],
      "metadata": {
        "colab": {
          "base_uri": "https://localhost:8080/"
        },
        "id": "GlAhhzDwEUZG",
        "outputId": "f6db1f0a-ac86-4f6e-f604-d87e7cc7437c"
      },
      "execution_count": 5,
      "outputs": [
        {
          "output_type": "stream",
          "name": "stdout",
          "text": [
            "Probability of landing any number 0.16666666666666666\n"
          ]
        }
      ]
    },
    {
      "cell_type": "code",
      "source": [
        "number_of_cards=52\n",
        "number_of_red_cards=26\n",
        "\n",
        "print(\"Probability of drawing a red card is\", number_of_red_cards/number_of_cards)"
      ],
      "metadata": {
        "colab": {
          "base_uri": "https://localhost:8080/"
        },
        "id": "HZWA19HXF2Xi",
        "outputId": "4e0a61ab-0dde-41c4-cd24-34bc81d30ad8"
      },
      "execution_count": 7,
      "outputs": [
        {
          "output_type": "stream",
          "name": "stdout",
          "text": [
            "Probability of drawing a red card is 0.5\n"
          ]
        }
      ]
    },
    {
      "cell_type": "markdown",
      "source": [
        "##Experimental Probability"
      ],
      "metadata": {
        "id": "m_kb_yLmGOxI"
      }
    },
    {
      "cell_type": "code",
      "source": [
        "import random as r\n",
        "\n",
        "trials=100\n",
        "Heads=0\n",
        "ch=[\"Heads\",\"tails\"]\n",
        "\n",
        "for i in range(trials):\n",
        "  if r.choice(ch)==\"Heads\":\n",
        "    Heads+=1\n",
        "probability=Heads/trials\n",
        "print(\"Probability of getting head is:\",probability)\n"
      ],
      "metadata": {
        "colab": {
          "base_uri": "https://localhost:8080/"
        },
        "id": "Tzbj6AovICTA",
        "outputId": "3062e7e3-0b7a-4cd0-a0df-807bd08b2ca2"
      },
      "execution_count": 30,
      "outputs": [
        {
          "output_type": "stream",
          "name": "stdout",
          "text": [
            "Probability of getting head is: 0.48\n"
          ]
        }
      ]
    },
    {
      "cell_type": "code",
      "source": [
        "Trials=6\n"
      ],
      "metadata": {
        "id": "3DWDnZekIOU6"
      },
      "execution_count": null,
      "outputs": []
    },
    {
      "cell_type": "markdown",
      "source": [
        "## Conditional Probability"
      ],
      "metadata": {
        "id": "5nMv3NrlIS8L"
      }
    },
    {
      "cell_type": "code",
      "source": [
        "face_cards=12\n",
        "king=4\n",
        "prob=king/face_cards\n",
        "print(prob)"
      ],
      "metadata": {
        "colab": {
          "base_uri": "https://localhost:8080/"
        },
        "id": "kcjbt3nxIVOU",
        "outputId": "e33ae170-c4b7-4852-c51d-d05504232ae1"
      },
      "execution_count": 32,
      "outputs": [
        {
          "output_type": "stream",
          "name": "stdout",
          "text": [
            "0.3333333333333333\n"
          ]
        }
      ]
    },
    {
      "cell_type": "code",
      "source": [
        "total=10\n",
        "red=4\n",
        "blue=6\n",
        "\n",
        "blue_ball=blue/total\n",
        "red_ball=red/total\n",
        "\n",
        "not_blue=1-blue_ball\n",
        "\n",
        "red_not_blue=((red_ball/not_blue))\n",
        "print(red_not_blue)\n",
        "\n",
        "\n"
      ],
      "metadata": {
        "colab": {
          "base_uri": "https://localhost:8080/"
        },
        "id": "OI7cg_XKKxL4",
        "outputId": "0589ff69-f3ec-4fbb-f772-01646d9e2a68"
      },
      "execution_count": 42,
      "outputs": [
        {
          "output_type": "stream",
          "name": "stdout",
          "text": [
            "1.0\n"
          ]
        }
      ]
    },
    {
      "cell_type": "code",
      "source": [
        "cards=52\n",
        "face=12\n",
        "king=4\n",
        "\n",
        "prob_of_getting_king = king/face\n",
        "print(prob_of_getting_king)"
      ],
      "metadata": {
        "colab": {
          "base_uri": "https://localhost:8080/"
        },
        "id": "rtHu_dp1Nm4A",
        "outputId": "211f4b09-af5a-41bd-f053-301a3587b317"
      },
      "execution_count": 52,
      "outputs": [
        {
          "output_type": "stream",
          "name": "stdout",
          "text": [
            "0.3333333333333333\n"
          ]
        }
      ]
    },
    {
      "cell_type": "code",
      "source": [
        "P_P=45\n",
        "P_F=5\n",
        "P_T=50\n",
        "P_TT=80\n",
        "\n",
        "P_P_G=((45/80)*(50/80))/P_T\n",
        "print(P_P_G)"
      ],
      "metadata": {
        "colab": {
          "base_uri": "https://localhost:8080/"
        },
        "id": "_3j2gsBHPjlK",
        "outputId": "c7f41d51-94e1-485e-f080-9f5d28467be9"
      },
      "execution_count": 53,
      "outputs": [
        {
          "output_type": "stream",
          "name": "stdout",
          "text": [
            "0.00703125\n"
          ]
        }
      ]
    },
    {
      "cell_type": "code",
      "source": [
        "total_students=80\n",
        "Studied=50\n",
        "passed_and_studeid_intersection=45\n",
        "\n",
        "prob_student_passed_and_studied=passed_and_studeid_intersection/Studied\n",
        "print(\"Probability student passed given that they studied:\",prob_student_passed_and_studied)"
      ],
      "metadata": {
        "colab": {
          "base_uri": "https://localhost:8080/"
        },
        "id": "0QN93QQqjLDD",
        "outputId": "adbb23d6-820b-4219-d776-54f32a3d0e5f"
      },
      "execution_count": 19,
      "outputs": [
        {
          "output_type": "stream",
          "name": "stdout",
          "text": [
            "Probability student passed given that they studied: 0.9\n"
          ]
        }
      ]
    },
    {
      "cell_type": "code",
      "source": [
        "total_days=100\n",
        "rain_day=30\n",
        "umb_carried_rain_also_intersection=25\n",
        "\n",
        "prob_umb_carry_rain_also=(umb_carried_rain_also_intersection) / 30\n",
        "print(\"Probability a person carried an umbrealla given it was raining:\",prob_umb_carry_rain_also)"
      ],
      "metadata": {
        "colab": {
          "base_uri": "https://localhost:8080/"
        },
        "id": "bvfLUekSiebg",
        "outputId": "9a0b5d62-707e-4470-8f68-54c8968ea5de"
      },
      "execution_count": 12,
      "outputs": [
        {
          "output_type": "stream",
          "name": "stdout",
          "text": [
            "Probability a person carried an umbrealla given it was raining: 0.8333333333333334\n"
          ]
        }
      ]
    },
    {
      "cell_type": "code",
      "source": [
        "total_cards=52\n",
        "face_cards=12\n",
        "king=4\n",
        "\n",
        "#we cant use multiply for intersection cuz it is dependent events\n",
        "# because all kings are face card\n",
        "\n",
        "prob_face_cards=face_cards/total_cards\n",
        "inter_king_face_cards=4\n",
        "prob_inter_king_face_card=inter_king_face_cards/total_cards\n",
        "prob_king_face_card = inter_king_face_cards/face_cards\n",
        "print(\"Probability of drawing a king from a deck given that it is a face card:\",prob_king_face_card)"
      ],
      "metadata": {
        "colab": {
          "base_uri": "https://localhost:8080/"
        },
        "id": "h-KEzVTLfSDQ",
        "outputId": "e46d328e-2f13-48a1-9272-2a3e0879ebf8"
      },
      "execution_count": 7,
      "outputs": [
        {
          "output_type": "stream",
          "name": "stdout",
          "text": [
            "Probability of drawing a king from a deck given that it is a face card: 0.3333333333333333\n"
          ]
        }
      ]
    },
    {
      "cell_type": "code",
      "source": [
        "PY=60/100\n",
        "PNY=(60/100) * (40/60)\n",
        "\n",
        "P=PNY/PY\n",
        "print(P)"
      ],
      "metadata": {
        "colab": {
          "base_uri": "https://localhost:8080/"
        },
        "id": "4lgNr2sVU00Q",
        "outputId": "96ec9ade-9b36-4af7-becb-e7c25f07e515"
      },
      "execution_count": 8,
      "outputs": [
        {
          "output_type": "stream",
          "name": "stdout",
          "text": [
            "0.6666666666666666\n"
          ]
        }
      ]
    },
    {
      "cell_type": "markdown",
      "source": [
        "##ADDITION RULE"
      ],
      "metadata": {
        "id": "c3cHk5nhbH9X"
      }
    },
    {
      "cell_type": "code",
      "source": [
        "#Mutually Exclusive Events occurs only once for eg coin only gives head or only tail\n",
        "\n",
        "prob_even= 3/6\n",
        "prob_two=1/6\n",
        "prob_even_and_prob_two=prob_even*prob_two\n",
        "\n",
        "prob_even_or_two=prob_even+prob_two-prob_even_and_prob_two\n",
        "print(prob_even)\n"
      ],
      "metadata": {
        "colab": {
          "base_uri": "https://localhost:8080/"
        },
        "id": "amQDJrN0bEll",
        "outputId": "6431ffb3-79c0-4d8d-96cd-60d7120a65c3"
      },
      "execution_count": 61,
      "outputs": [
        {
          "output_type": "stream",
          "name": "stdout",
          "text": [
            "0.5\n"
          ]
        }
      ]
    },
    {
      "cell_type": "code",
      "source": [
        "PH=13/52\n",
        "PC=13/52\n",
        "\n",
        "PH_OR_PC=PH+PC\n",
        "print(PH_OR_PC)"
      ],
      "metadata": {
        "colab": {
          "base_uri": "https://localhost:8080/"
        },
        "id": "DCveVAHIdIGW",
        "outputId": "18c875e4-9ded-42cc-ae3f-d5bcac307678"
      },
      "execution_count": 63,
      "outputs": [
        {
          "output_type": "stream",
          "name": "stdout",
          "text": [
            "0.5\n"
          ]
        }
      ]
    },
    {
      "cell_type": "markdown",
      "source": [
        "##Multiplication Rule"
      ],
      "metadata": {
        "id": "DAlxihopgU8y"
      }
    },
    {
      "cell_type": "markdown",
      "source": [
        "###Independent"
      ],
      "metadata": {
        "id": "hKm1XaE_jcD9"
      }
    },
    {
      "cell_type": "code",
      "source": [
        "prob_head=0.5\n",
        "prob_two_heads=prob_head*prob_head\n",
        "print(prob_two_heads)"
      ],
      "metadata": {
        "colab": {
          "base_uri": "https://localhost:8080/"
        },
        "id": "mJcEDg9egs8g",
        "outputId": "90fc6caf-c9bf-4a5e-df65-e54500bc1041"
      },
      "execution_count": 64,
      "outputs": [
        {
          "output_type": "stream",
          "name": "stdout",
          "text": [
            "0.25\n"
          ]
        }
      ]
    },
    {
      "cell_type": "code",
      "source": [
        "prob_six=1/6\n",
        "\n",
        "prob_2_six_in_a_row=prob_six*prob_six\n",
        "print(prob_2_six_in_a_row)"
      ],
      "metadata": {
        "colab": {
          "base_uri": "https://localhost:8080/"
        },
        "id": "DaG7hAEvhIE8",
        "outputId": "742a69a7-8433-449d-f4d1-bed2f337456a"
      },
      "execution_count": 67,
      "outputs": [
        {
          "output_type": "stream",
          "name": "stdout",
          "text": [
            "0.027777777777777776\n"
          ]
        }
      ]
    },
    {
      "cell_type": "code",
      "source": [
        "prob_head=1/2\n"
      ],
      "metadata": {
        "id": "D4aBHaPKiV6N"
      },
      "execution_count": 69,
      "outputs": []
    },
    {
      "cell_type": "markdown",
      "source": [
        "###Dependent"
      ],
      "metadata": {
        "id": "w8SzjuDIjexU"
      }
    },
    {
      "cell_type": "code",
      "source": [
        "#Without Replacement\n",
        "\n",
        "total_cards=52\n",
        "ace=4\n",
        "\n",
        "prob_ace=ace/total_cards\n",
        "prob_another_ace=(ace-1)/(total_cards-1)\n",
        "\n",
        "prob_two_ace=prob_ace*prob_another_ace\n",
        "print(prob_two_ace)"
      ],
      "metadata": {
        "colab": {
          "base_uri": "https://localhost:8080/"
        },
        "id": "u6sXW8_Wjf9k",
        "outputId": "44335de5-040f-4d94-b42b-8f9032407ed9"
      },
      "execution_count": 72,
      "outputs": [
        {
          "output_type": "stream",
          "name": "stdout",
          "text": [
            "0.004524886877828055\n"
          ]
        }
      ]
    },
    {
      "cell_type": "code",
      "source": [
        "cards=52\n",
        "red=26\n",
        "\n",
        "prob_red=red/cards\n",
        "\n",
        "prob_two_red_cards=prob_red*prob_red\n",
        "print(prob_two_red_cards)"
      ],
      "metadata": {
        "colab": {
          "base_uri": "https://localhost:8080/"
        },
        "id": "hGApadApkkPL",
        "outputId": "b8e00261-2aa2-4a27-a97c-d23ed833fab8"
      },
      "execution_count": 74,
      "outputs": [
        {
          "output_type": "stream",
          "name": "stdout",
          "text": [
            "0.25\n"
          ]
        }
      ]
    },
    {
      "cell_type": "markdown",
      "source": [
        "#TASK"
      ],
      "metadata": {
        "id": "MOuBhNZakOtc"
      }
    },
    {
      "cell_type": "code",
      "source": [
        "total_events=6\n",
        "less_than_three=2\n",
        "\n",
        "prob_rolling_less_than_3=less_than_three/total_events\n",
        "print(\"Probability of rolling a number less than 3 on a die is:\",prob_rolling_less_than_3)"
      ],
      "metadata": {
        "colab": {
          "base_uri": "https://localhost:8080/"
        },
        "id": "FLusnVVmkPpF",
        "outputId": "0285517a-d8c8-4424-be30-04e954827dfe"
      },
      "execution_count": 20,
      "outputs": [
        {
          "output_type": "stream",
          "name": "stdout",
          "text": [
            "Probability of rolling a number less than 3 on a die is: 0.3333333333333333\n"
          ]
        }
      ]
    },
    {
      "cell_type": "code",
      "source": [
        "import random as r\n",
        "\n",
        "flip=200\n",
        "tail=0\n",
        "choices=[\"head\",\"tail\"]\n",
        "\n",
        "for _ in range(flip):\n",
        "  if r.choice(choices)==\"tail\":\n",
        "    tail=tail+1\n",
        "\n",
        "prob_tail=tail/flip\n",
        "print(\"Probability of getting tails in 200 flips are:\",prob_tail)"
      ],
      "metadata": {
        "colab": {
          "base_uri": "https://localhost:8080/"
        },
        "id": "-7-eBigRksBt",
        "outputId": "a705bc9e-1460-4e91-a826-b4f98f4dd6dd"
      },
      "execution_count": 52,
      "outputs": [
        {
          "output_type": "stream",
          "name": "stdout",
          "text": [
            "Probability of getting tails in 200 flips are: 0.47\n"
          ]
        }
      ]
    },
    {
      "cell_type": "code",
      "source": [
        "total_cards=52\n",
        "queen=4\n",
        "face_cards=12\n",
        "\n",
        "prob_of_getting_face_card_and_queen=queen/total_cards\n",
        "prob_of_getting_face_card=face_cards/total_cards\n",
        "\n",
        "prob_of_getting_queen_given_thatit_is_face_card=prob_of_getting_face_card_and_queen/prob_of_getting_face_card\n",
        "print(prob_of_getting_queen_given_thatit_is_face_card)"
      ],
      "metadata": {
        "colab": {
          "base_uri": "https://localhost:8080/"
        },
        "id": "k_zVtArcllFo",
        "outputId": "2f4b8c96-ec21-4dd5-e2a5-ef195d2f11c1"
      },
      "execution_count": 53,
      "outputs": [
        {
          "output_type": "stream",
          "name": "stdout",
          "text": [
            "0.3333333333333333\n"
          ]
        }
      ]
    },
    {
      "cell_type": "code",
      "source": [
        "total_events=6\n",
        "rolling3=1\n",
        "rolling5=1\n",
        "\n",
        "prob_3=rolling3/total_events\n",
        "prob_5=rolling5/total_events\n",
        "\n",
        "prob_rolling_3or5=prob_3+prob_5\n",
        "print(\"Probability of rolling 3 or 5 on a die\",prob_rolling_3or5)"
      ],
      "metadata": {
        "colab": {
          "base_uri": "https://localhost:8080/"
        },
        "id": "3CYTh2AfmSJh",
        "outputId": "073a8cf2-e5e4-466d-83c7-17f5ef6bbe38"
      },
      "execution_count": 56,
      "outputs": [
        {
          "output_type": "stream",
          "name": "stdout",
          "text": [
            "Probability of rolling 3 or 5 on a die 0.3333333333333333\n"
          ]
        }
      ]
    },
    {
      "cell_type": "code",
      "source": [
        "total_cards=52\n",
        "red_cards=26\n",
        "black_cards=26\n",
        "\n",
        "P_red_card=red_cards/total_cards\n",
        "P_black_without_replcaement=black_cards/(total_cards-1)\n",
        "\n",
        "prob_red_and_black=P_black_without_replcaement*P_red_card\n",
        "print(\"Probability of drawing a red card and a black card without replacement:\",prob_red_and_black)"
      ],
      "metadata": {
        "colab": {
          "base_uri": "https://localhost:8080/"
        },
        "id": "bIop6mlZmzLZ",
        "outputId": "9b7f91c6-459c-4a31-9ef4-ea18ae270fa1"
      },
      "execution_count": 61,
      "outputs": [
        {
          "output_type": "stream",
          "name": "stdout",
          "text": [
            "Probability of drawing a red card and a black card without replacement: 0.2549019607843137\n"
          ]
        }
      ]
    }
  ]
}