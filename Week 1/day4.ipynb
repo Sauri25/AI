{
  "nbformat": 4,
  "nbformat_minor": 0,
  "metadata": {
    "colab": {
      "provenance": [],
      "collapsed_sections": [
        "WlaAy6ZmWGVu",
        "1yZY4Suci82_",
        "GldPH8DSrktv"
      ]
    },
    "kernelspec": {
      "name": "python3",
      "display_name": "Python 3"
    },
    "language_info": {
      "name": "python"
    }
  },
  "cells": [
    {
      "cell_type": "markdown",
      "source": [
        "#**Numpy**\n",
        "\n"
      ],
      "metadata": {
        "id": "67bRasH8_WLo"
      }
    },
    {
      "cell_type": "markdown",
      "source": [
        "## Ceating array"
      ],
      "metadata": {
        "id": "WlaAy6ZmWGVu"
      }
    },
    {
      "cell_type": "code",
      "execution_count": null,
      "metadata": {
        "id": "ZZz4yJK-_K70",
        "colab": {
          "base_uri": "https://localhost:8080/"
        },
        "outputId": "3cdfcc73-8456-4b6e-9124-e9359435f9ac"
      },
      "outputs": [
        {
          "output_type": "stream",
          "name": "stdout",
          "text": [
            "5\n",
            "0\n",
            "2\n"
          ]
        }
      ],
      "source": [
        "import numpy as np\n",
        "\n",
        "arr=np.array(5)  #0d array\n",
        "print(arr)\n",
        "print(arr.ndim)\n",
        "\n",
        "arr_2d=np.array([[1,2,3],[4,5,6]])\n",
        "print(arr_2d.ndim)"
      ]
    },
    {
      "cell_type": "code",
      "source": [
        "a=[[5,6,7,8,9],[2,3,4,5,6]]\n",
        "b=np.array(a)\n",
        "print(b,\"\\n shape is\",b.shape,\"\\n size is \",b.size,\"\\n dim is \",b.ndim ,\"\\n type\",b.dtype)"
      ],
      "metadata": {
        "colab": {
          "base_uri": "https://localhost:8080/"
        },
        "id": "3NZrftnUaYso",
        "outputId": "3cb1e265-4608-4fb7-8ea9-33e3ad4e010f"
      },
      "execution_count": null,
      "outputs": [
        {
          "output_type": "stream",
          "name": "stdout",
          "text": [
            "[[5 6 7 8 9]\n",
            " [2 3 4 5 6]] \n",
            " shape is (2, 5) \n",
            " size is  10 \n",
            " dim is  2 \n",
            " type int64\n"
          ]
        }
      ]
    },
    {
      "cell_type": "markdown",
      "source": [
        "## Accessing array index"
      ],
      "metadata": {
        "id": "1yZY4Suci82_"
      }
    },
    {
      "cell_type": "code",
      "source": [
        "arr=np.array([1,2,3])\n",
        "print(arr[0:2])\n",
        "\n",
        "arr1=np.array([[1,2,3],[4,5,7]])\n",
        "print(arr1[1,1])\n",
        "\n",
        "arr1[1,1]=9\n",
        "print(arr1)\n",
        "print(arr1[1,1])\n",
        "print(arr[2]+arr1[1,2])"
      ],
      "metadata": {
        "colab": {
          "base_uri": "https://localhost:8080/"
        },
        "id": "ruSxZ84_jAgo",
        "outputId": "bcfe9dbc-34b9-4a8c-d814-6d6d2339b2cc"
      },
      "execution_count": null,
      "outputs": [
        {
          "output_type": "stream",
          "name": "stdout",
          "text": [
            "[1 2]\n",
            "5\n",
            "[[1 2 3]\n",
            " [4 9 7]]\n",
            "9\n",
            "10\n"
          ]
        }
      ]
    },
    {
      "cell_type": "code",
      "source": [
        "a=np.array([[[1,2,3],[4,5,6]],[[7,8,9],[10,11,12]]])\n",
        "print(a.ndim)\n",
        "print(a[1,1,1])\n",
        "print(a[1,1,-1])  #negative indexing\n"
      ],
      "metadata": {
        "colab": {
          "base_uri": "https://localhost:8080/"
        },
        "id": "Jv3-8ogdoY8D",
        "outputId": "df3012b1-0ec1-4137-a28d-3cd11826f1ad"
      },
      "execution_count": null,
      "outputs": [
        {
          "output_type": "stream",
          "name": "stdout",
          "text": [
            "3\n",
            "11\n",
            "12\n"
          ]
        }
      ]
    },
    {
      "cell_type": "markdown",
      "source": [
        "##Slicing array\n"
      ],
      "metadata": {
        "id": "GldPH8DSrktv"
      }
    },
    {
      "cell_type": "code",
      "source": [
        "# a=np.array([1,2,3,4,5,6,7])\n",
        "# print(a[1])\n",
        "# print(a[0:4]) #start:end\n",
        "# print(a[0:5:3]) #start:end:step\n",
        "\n",
        "\n",
        "b=np.array([[1,2,3,4,5,6],[7,8,9,10,11,12]])\n",
        "print(b[1,0:3])"
      ],
      "metadata": {
        "colab": {
          "base_uri": "https://localhost:8080/"
        },
        "id": "T3rBqqCUrmlK",
        "outputId": "260b881a-7e06-4f63-c82d-61afd3dfba8d"
      },
      "execution_count": null,
      "outputs": [
        {
          "output_type": "stream",
          "name": "stdout",
          "text": [
            "[7 8 9]\n"
          ]
        }
      ]
    },
    {
      "cell_type": "markdown",
      "source": [
        "## CW"
      ],
      "metadata": {
        "id": "GCyX8m1vwuy3"
      }
    },
    {
      "cell_type": "code",
      "source": [
        "b = [7, 14, 21, 28]\n",
        "a = np.array(b)\n",
        "print(a)"
      ],
      "metadata": {
        "colab": {
          "base_uri": "https://localhost:8080/"
        },
        "id": "8bMSVq8Vwvzw",
        "outputId": "70b1de90-1302-45dd-d5e1-e2deebb0159c"
      },
      "execution_count": null,
      "outputs": [
        {
          "output_type": "stream",
          "name": "stdout",
          "text": [
            "[ 7 14 21 28]\n"
          ]
        }
      ]
    },
    {
      "cell_type": "code",
      "source": [
        "a = np.array([[5, 10, 15], [20, 25, 30]])\n",
        "print(f\"shape is {a.shape}, dimension is {a.ndim}\")"
      ],
      "metadata": {
        "colab": {
          "base_uri": "https://localhost:8080/"
        },
        "id": "mtPoAH4SwzoU",
        "outputId": "a0342198-5acc-42d8-bd60-c92be834bdcb"
      },
      "execution_count": null,
      "outputs": [
        {
          "output_type": "stream",
          "name": "stdout",
          "text": [
            "shape is (2, 3), dimension is 2\n"
          ]
        }
      ]
    },
    {
      "cell_type": "code",
      "source": [
        "zro = np.zeros((2, 3))\n",
        "rng = np.arange(13)\n",
        "print(zro, \"\\n\\n\", rng[0:13:3])"
      ],
      "metadata": {
        "colab": {
          "base_uri": "https://localhost:8080/"
        },
        "id": "1VwTXy70w2Nm",
        "outputId": "d4334036-3729-4f41-f1dd-78ae7291c4df"
      },
      "execution_count": null,
      "outputs": [
        {
          "output_type": "stream",
          "name": "stdout",
          "text": [
            "[[0. 0. 0.]\n",
            " [0. 0. 0.]] \n",
            "\n",
            " [ 0  3  6  9 12]\n"
          ]
        }
      ]
    },
    {
      "cell_type": "code",
      "source": [
        "a=np.array([2,4,6,8])\n",
        "print(a*3)"
      ],
      "metadata": {
        "colab": {
          "base_uri": "https://localhost:8080/"
        },
        "id": "HFAJQju4w5vQ",
        "outputId": "94e0ace7-ba4f-4856-8cb0-1fed70671c18"
      },
      "execution_count": null,
      "outputs": [
        {
          "output_type": "stream",
          "name": "stdout",
          "text": [
            "[ 6 12 18 24]\n"
          ]
        }
      ]
    },
    {
      "cell_type": "code",
      "source": [
        "b=np.array([1,3,5,7,9,11])\n",
        "print(b[2])\n",
        "print(b[1:3])"
      ],
      "metadata": {
        "colab": {
          "base_uri": "https://localhost:8080/"
        },
        "id": "W6w78ZXUw6mt",
        "outputId": "5d530fc0-6462-4e31-ec0a-c5472911f992"
      },
      "execution_count": null,
      "outputs": [
        {
          "output_type": "stream",
          "name": "stdout",
          "text": [
            "5\n",
            "[3 5]\n"
          ]
        }
      ]
    }
  ]
}