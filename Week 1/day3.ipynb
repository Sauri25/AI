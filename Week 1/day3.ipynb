{
  "nbformat": 4,
  "nbformat_minor": 0,
  "metadata": {
    "colab": {
      "provenance": [],
      "collapsed_sections": [
        "Ny-Fnj2zL_dW",
        "iAFBNOz1RW9I"
      ]
    },
    "kernelspec": {
      "name": "python3",
      "display_name": "Python 3"
    },
    "language_info": {
      "name": "python"
    }
  },
  "cells": [
    {
      "cell_type": "markdown",
      "source": [
        "#**File Handling and Exceptions**"
      ],
      "metadata": {
        "id": "kASjvywKKxKJ"
      }
    },
    {
      "cell_type": "markdown",
      "source": [
        "##Opening and Reading, Writing, Appending file"
      ],
      "metadata": {
        "id": "Ny-Fnj2zL_dW"
      }
    },
    {
      "cell_type": "code",
      "execution_count": null,
      "metadata": {
        "id": "E0LyoYzF821n",
        "colab": {
          "base_uri": "https://localhost:8080/"
        },
        "outputId": "8412f7a0-195a-4ccb-d559-f88d2eefb778"
      },
      "outputs": [
        {
          "output_type": "stream",
          "name": "stdout",
          "text": [
            " I live in\n",
            " KTM\n",
            "\n",
            "MY name is ok\n"
          ]
        }
      ],
      "source": [
        "f=open(\"file.txt\",\"w\")\n",
        "f.write(\"Hey My name is Ram\\n I live in KTM\")\n",
        "f.writelines(\"\\n\")\n",
        "f.writelines(\"MY name is ok\")\n",
        "f.close()\n",
        "\n",
        "f=open(\"file.txt\",\"r\")\n",
        "f.readline() #discards 1st line\n",
        "print(f.read(10))  #prints upto 10 letter\n",
        "print(f.readline()) #prints 2nd line\n",
        "print(f.readline())\n",
        "f.close()\n",
        "\n",
        "f=open(\"file.txt\",\"w\")\n",
        "f.write(\"OKKK\")\n",
        "f.close()\n",
        "\n",
        "f=open(\"file.txt\",\"a\")\n",
        "f.write(\"not removed\")\n",
        "f.close()\n",
        "\n",
        "f=open(\"file.txt\",\"r\")\n",
        "f.read()\n",
        "f.close()"
      ]
    },
    {
      "cell_type": "markdown",
      "source": [
        "###With"
      ],
      "metadata": {
        "id": "iOZ_8YoORlRi"
      }
    },
    {
      "cell_type": "code",
      "source": [
        "with open(\"new.txt\",\"w\") as f:\n",
        "  f.write(\"this is with function\")\n",
        "\n",
        "#no need to close the file here"
      ],
      "metadata": {
        "id": "vzaMRUqnMNTD"
      },
      "execution_count": null,
      "outputs": []
    },
    {
      "cell_type": "markdown",
      "source": [
        "###Deleting a file"
      ],
      "metadata": {
        "id": "-E_kYvDgSXmJ"
      }
    },
    {
      "cell_type": "code",
      "source": [
        "import os as o\n",
        "o.remove(\"new.txt\")  #removes file\n",
        "o.rmdir(\"ok\")        #removes folder"
      ],
      "metadata": {
        "id": "RJkmUeC_Sa4q"
      },
      "execution_count": null,
      "outputs": []
    },
    {
      "cell_type": "markdown",
      "source": [
        "##Exceptions"
      ],
      "metadata": {
        "id": "iAFBNOz1RW9I"
      }
    },
    {
      "cell_type": "code",
      "source": [
        "try:\n",
        "  print(b)\n",
        "except NameError:\n",
        "  print(\"no\")\n"
      ],
      "metadata": {
        "colab": {
          "base_uri": "https://localhost:8080/"
        },
        "id": "UvxapphYUQHv",
        "outputId": "83effba3-5c72-418c-c601-17523f0052f2"
      },
      "execution_count": null,
      "outputs": [
        {
          "output_type": "stream",
          "name": "stdout",
          "text": [
            "no\n"
          ]
        }
      ]
    },
    {
      "cell_type": "markdown",
      "source": [
        "##work\n"
      ],
      "metadata": {
        "id": "oQFGfWHvfzDP"
      }
    },
    {
      "cell_type": "code",
      "source": [
        "file = open(\"text.txt\", \"w\")\n",
        "file.write(\n",
        "    \"Hey my name is Ram Hari. I live in KTM\\n My hobby is coding and i Love to sleep alot\"\n",
        ")\n",
        "file.close()\n",
        "\n",
        "file = open(\"text.txt\", \"a\")\n",
        "file.write(\n",
        "    \"\\n My name is Saurav Raj Aryal and my favorite programming language is Python\"\n",
        ")\n",
        "file.close()\n",
        "\n",
        "with open(\"text.txt\", \"r\") as file:\n",
        "    a = file.readlines()\n",
        "    print(a)\n",
        "    print(\"There are \", len(a), \"lines in the file\")\n",
        "\n",
        "a = int(input(\"Enter a number : \"))\n",
        "try:\n",
        "    print(1 / a)\n",
        "except ZeroDivisionError:\n",
        "    print(\"Cant divide by zero\")\n",
        "finally:\n",
        "    print(\"The programm has runned succesfully\")\n"
      ],
      "metadata": {
        "colab": {
          "base_uri": "https://localhost:8080/"
        },
        "id": "U1tuc1Gzf0Ve",
        "outputId": "2f40a57f-b542-47fb-a302-fd9de04a56b0"
      },
      "execution_count": null,
      "outputs": [
        {
          "output_type": "stream",
          "name": "stdout",
          "text": [
            "['Hey my name is Ram Hari. I live in KTM\\n', ' My hobby is coding and i Love to sleep alot\\n', ' My name is Saurav Raj Aryal and my favorite programming language is Python']\n",
            "There are  3 lines in the file\n",
            "Enter a number : 4\n",
            "0.25\n",
            "The programm has runned succesfully\n"
          ]
        }
      ]
    }
  ]
}