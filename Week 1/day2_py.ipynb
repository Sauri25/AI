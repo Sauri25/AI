{
  "nbformat": 4,
  "nbformat_minor": 0,
  "metadata": {
    "colab": {
      "provenance": [],
      "collapsed_sections": [
        "om3e3dLpIxyX",
        "wUShO-pML1_S",
        "2YuoT6j6OYuK",
        "IN-QJxqDScGy",
        "BnGBIJXMU81_",
        "KoOy2SvYVc0x"
      ]
    },
    "kernelspec": {
      "name": "python3",
      "display_name": "Python 3"
    },
    "language_info": {
      "name": "python"
    }
  },
  "cells": [
    {
      "cell_type": "markdown",
      "source": [
        "#**Day 2**"
      ],
      "metadata": {
        "id": "_P_JOC6oHm67"
      }
    },
    {
      "cell_type": "markdown",
      "source": [
        "# Lists in Python"
      ],
      "metadata": {
        "id": "om3e3dLpIxyX"
      }
    },
    {
      "cell_type": "code",
      "source": [
        "fruits=[\"apple\",\"mango\",\"orange\",\"watermelon\"]\n",
        "print(fruits)\n",
        "\n",
        "print(fruits[0])\n",
        "print(fruits[1],fruits[-1]) #-1 indexing starts from last\n",
        "\n",
        " #add to last index\n",
        "fruits.append(\"banana\")\n",
        "print(fruits)\n",
        "\n",
        "#remove item\n",
        "fruits.remove(\"mango\")\n",
        "print(fruits)\n",
        "\n",
        "#slicing prints from 1 to 2 index\n",
        "print(fruits[1:4])"
      ],
      "metadata": {
        "colab": {
          "base_uri": "https://localhost:8080/"
        },
        "id": "o0mT6PkbI1lT",
        "outputId": "e51194b0-dcae-42d6-ee4c-1d69c5f594da"
      },
      "execution_count": 25,
      "outputs": [
        {
          "output_type": "stream",
          "name": "stdout",
          "text": [
            "['apple', 'mango', 'orange', 'watermelon']\n",
            "apple\n",
            "mango watermelon\n",
            "['apple', 'mango', 'orange', 'watermelon', 'banana']\n",
            "['apple', 'orange', 'watermelon', 'banana']\n",
            "['orange', 'watermelon', 'banana']\n"
          ]
        }
      ]
    },
    {
      "cell_type": "code",
      "source": [],
      "metadata": {
        "id": "3t8oReqmJ5Ht"
      },
      "execution_count": null,
      "outputs": []
    },
    {
      "cell_type": "markdown",
      "source": [
        "# Dictionary"
      ],
      "metadata": {
        "id": "wUShO-pML1_S"
      }
    },
    {
      "cell_type": "code",
      "source": [
        "students={\n",
        "    \"name\":\"saurav\",\n",
        "    \"class\":12,\n",
        "    \"stream\":\"science\"\n",
        "}\n",
        "print(students)\n",
        "print(students[\"name\"])\n",
        "\n",
        "#changing value\n",
        "students[\"class\"]=\"Bachelor\"\n",
        "students[\"stream\"]=\"IT\"\n",
        "print(students)\n",
        "\n",
        "#adding new key value\n",
        "students[\"age\"]=18\n",
        "print(students)\n",
        "\n",
        "#deleting key value\n",
        "del students[\"stream\"]\n",
        "print(students)"
      ],
      "metadata": {
        "colab": {
          "base_uri": "https://localhost:8080/"
        },
        "id": "LnUCacp8L5Av",
        "outputId": "b0a38190-4d36-4dd6-d8e3-11e266968748"
      },
      "execution_count": 34,
      "outputs": [
        {
          "output_type": "stream",
          "name": "stdout",
          "text": [
            "{'name': 'saurav', 'class': 12, 'stream': 'science'}\n",
            "saurav\n",
            "{'name': 'saurav', 'class': 'Bachelor', 'stream': 'IT'}\n",
            "{'name': 'saurav', 'class': 'Bachelor', 'stream': 'IT', 'age': 18}\n",
            "{'name': 'saurav', 'class': 'Bachelor', 'age': 18}\n"
          ]
        }
      ]
    },
    {
      "cell_type": "markdown",
      "source": [
        "#String Manipulation"
      ],
      "metadata": {
        "id": "2YuoT6j6OYuK"
      }
    },
    {
      "cell_type": "code",
      "source": [
        "name=\" hey ram  \"\n",
        "# leading space vaneko aagadi ko space and trailing space vaneko paxadi ko\n",
        "print(name)\n",
        "print(name.lower())\n",
        "print(name.upper())\n",
        "print(name.strip())\n",
        "print(name.replace(\"ram\",\"saurav\").strip())\n",
        "\n",
        "#split two words into list\n",
        "j=name.split()\n",
        "print(j)\n",
        "print(name)\n",
        "\n",
        "#using two methods at a time is called function or method chaining name.split().strip\n",
        "\n",
        "\n",
        "#join\n",
        "joined=\"--\".join(j)\n",
        "print(joined)\n",
        "\n"
      ],
      "metadata": {
        "colab": {
          "base_uri": "https://localhost:8080/"
        },
        "id": "dqPTrHC6OajO",
        "outputId": "ee445c4e-ba93-4bc0-ce73-2ce3a1daeadd"
      },
      "execution_count": 66,
      "outputs": [
        {
          "output_type": "stream",
          "name": "stdout",
          "text": [
            " hey ram  \n",
            " hey ram  \n",
            " HEY RAM  \n",
            "hey ram\n",
            "hey saurav\n",
            "['hey', 'ram']\n",
            " hey ram  \n",
            "hey--ram\n"
          ]
        }
      ]
    },
    {
      "cell_type": "markdown",
      "source": [
        "# Modular Programming"
      ],
      "metadata": {
        "id": "IN-QJxqDScGy"
      }
    },
    {
      "cell_type": "code",
      "source": [
        "import math\n",
        "print(math.floor(math.sqrt(16)))\n",
        "\n",
        "#round off to higher\n",
        "print(math.ceil(5.8))\n",
        "\n",
        "#round off to lower\n",
        "print(math.floor(5.8))\n",
        "\n",
        "\n"
      ],
      "metadata": {
        "colab": {
          "base_uri": "https://localhost:8080/"
        },
        "id": "qTSp98TeSd6Q",
        "outputId": "b2180e0d-a6c5-4a3e-b686-d1b2ed437ebe"
      },
      "execution_count": 85,
      "outputs": [
        {
          "output_type": "stream",
          "name": "stdout",
          "text": [
            "4\n",
            "6\n",
            "5\n"
          ]
        }
      ]
    },
    {
      "cell_type": "markdown",
      "source": [
        "RANDOM\n"
      ],
      "metadata": {
        "id": "wV6zsMG7V9hW"
      }
    },
    {
      "cell_type": "code",
      "source": [
        "import math\n",
        "import random as r\n",
        "print(r.randint(1,10))\n",
        "\n",
        "#random float\n",
        "print(r.random())\n",
        "\n",
        "#random float with range\n",
        "print(r.uniform(1,9))\n",
        "\n",
        "print(math.floor(r.uniform(1,9)))\n",
        "\n",
        "a=[\"ram\",'shyam']\n",
        "r.choices(a)\n"
      ],
      "metadata": {
        "colab": {
          "base_uri": "https://localhost:8080/"
        },
        "id": "ErrVM7gJV8U4",
        "outputId": "6b0c6c70-f83b-4290-dd00-496297ac3d4f"
      },
      "execution_count": 129,
      "outputs": [
        {
          "output_type": "stream",
          "name": "stdout",
          "text": [
            "1\n",
            "0.41888602845393363\n",
            "2.7286237428404503\n",
            "5\n"
          ]
        },
        {
          "output_type": "execute_result",
          "data": {
            "text/plain": [
              "['shyam']"
            ]
          },
          "metadata": {},
          "execution_count": 129
        }
      ]
    },
    {
      "cell_type": "markdown",
      "source": [
        "#Aliasing"
      ],
      "metadata": {
        "id": "BnGBIJXMU81_"
      }
    },
    {
      "cell_type": "code",
      "source": [
        "import matplotlib.pyplot as m\n",
        "m.plot([1,2,3],[4,5,9])"
      ],
      "metadata": {
        "colab": {
          "base_uri": "https://localhost:8080/",
          "height": 447
        },
        "id": "KYUDYo8fT3qh",
        "outputId": "3a7e9e73-2898-43aa-8ca3-55a12348d988"
      },
      "execution_count": 88,
      "outputs": [
        {
          "output_type": "execute_result",
          "data": {
            "text/plain": [
              "[<matplotlib.lines.Line2D at 0x78ee794843d0>]"
            ]
          },
          "metadata": {},
          "execution_count": 88
        },
        {
          "output_type": "display_data",
          "data": {
            "text/plain": [
              "<Figure size 640x480 with 1 Axes>"
            ],
            "image/png": "[encoded data removed]"
          },
          "metadata": {}
        }
      ]
    },
    {
      "cell_type": "markdown",
      "source": [
        "#variable aliasing\n"
      ],
      "metadata": {
        "id": "KoOy2SvYVc0x"
      }
    },
    {
      "cell_type": "code",
      "source": [
        "a=[1,2,3,4]\n",
        "b=a\n",
        "b.append(5)\n",
        "print(a)\n",
        "print(b)\n",
        "\n",
        "#function aliasing"
      ],
      "metadata": {
        "colab": {
          "base_uri": "https://localhost:8080/"
        },
        "id": "duBwSe02Viq4",
        "outputId": "be697ef0-5e16-443f-99be-3ae5b80325ee"
      },
      "execution_count": 89,
      "outputs": [
        {
          "output_type": "stream",
          "name": "stdout",
          "text": [
            "[1, 2, 3, 4, 5]\n",
            "[1, 2, 3, 4, 5]\n"
          ]
        }
      ]
    },
    {
      "cell_type": "markdown",
      "source": [
        "#CUSTOM MODULE"
      ],
      "metadata": {
        "id": "Jym5fwFHXpqW"
      }
    },
    {
      "cell_type": "code",
      "source": [
        "%%writefile add.py\n",
        "def add(a,b):\n",
        "  return a+b"
      ],
      "metadata": {
        "colab": {
          "base_uri": "https://localhost:8080/"
        },
        "id": "QWlX2QRyXsEC",
        "outputId": "5cbdf681-bf94-4c81-b529-45573fd40e77"
      },
      "execution_count": 157,
      "outputs": [
        {
          "output_type": "stream",
          "name": "stdout",
          "text": [
            "Overwriting add.py\n"
          ]
        }
      ]
    },
    {
      "cell_type": "code",
      "source": [
        "import add\n",
        "add.add(2,4)"
      ],
      "metadata": {
        "colab": {
          "base_uri": "https://localhost:8080/"
        },
        "id": "CpJRNj4jY_EZ",
        "outputId": "519b53e3-0c70-4eef-81b3-d23177d201e6"
      },
      "execution_count": 158,
      "outputs": [
        {
          "output_type": "execute_result",
          "data": {
            "text/plain": [
              "6"
            ]
          },
          "metadata": {},
          "execution_count": 158
        }
      ]
    }
  ]
}