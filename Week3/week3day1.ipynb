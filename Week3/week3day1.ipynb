{
  "nbformat": 4,
  "nbformat_minor": 0,
  "metadata": {
    "colab": {
      "provenance": []
    },
    "kernelspec": {
      "name": "python3",
      "display_name": "Python 3"
    },
    "language_info": {
      "name": "python"
    }
  },
  "cells": [
    {
      "cell_type": "markdown",
      "source": [
        "# Traditional Programming VS Machine Learning"
      ],
      "metadata": {
        "id": "dyQVSFXnA7RT"
      }
    },
    {
      "cell_type": "code",
      "execution_count": null,
      "metadata": {
        "id": "7qdj-W9KYxlL"
      },
      "outputs": [],
      "source": [
        "#Traditional- Rule and input is given and we get output\n",
        "#Machine- Input and Output is given and machine will find the rules"
      ]
    },
    {
      "cell_type": "markdown",
      "source": [
        "#Traditional Programming"
      ],
      "metadata": {
        "id": "ZCYvsBv9EvZX"
      }
    },
    {
      "cell_type": "code",
      "source": [
        "#traditional\n",
        "\n",
        "def a(n):\n",
        "  return n%2==0\n",
        "\n",
        "n=int(input(\"Enter number\"))\n",
        "print(a(n))"
      ],
      "metadata": {
        "id": "ZRgInuqDBT23"
      },
      "execution_count": null,
      "outputs": []
    },
    {
      "cell_type": "markdown",
      "source": [
        "#ML predictig odd vs even using decision tree"
      ],
      "metadata": {
        "id": "n7XBG_aYErtK"
      }
    },
    {
      "cell_type": "code",
      "source": [
        "import pandas as pd\n",
        "from sklearn.tree import DecisionTreeClassifier\n",
        "\n",
        "#Preparing Data\n",
        "import pandas as pd\n",
        "\n",
        "# Create a DataFrame with numbers from -1000 to 1000\n",
        "X = pd.DataFrame({\"number\": range(-10, 101)})\n",
        "\n",
        "# Define a function to label numbers as \"odd\" or \"even\"\n",
        "def label_odd_even(num):\n",
        "    return \"even\" if num % 2 == 0 else \"odd\"\n",
        "\n",
        "# Apply the function to create the target labels\n",
        "Y = X[\"number\"].apply(label_odd_even).tolist()\n",
        "\n",
        "\n",
        "#creating model\n",
        "model=DecisionTreeClassifier()\n",
        "\n",
        "#Training Model\n",
        "model.fit(X,Y)\n",
        "\n",
        "#Making Predictions\n",
        "print(model.predict([[10001]]))"
      ],
      "metadata": {
        "colab": {
          "base_uri": "https://localhost:8080/"
        },
        "id": "3c4SYSQTDntE",
        "outputId": "fec68713-43b2-453d-a29c-a9d0a1b0e483"
      },
      "execution_count": 6,
      "outputs": [
        {
          "output_type": "stream",
          "name": "stdout",
          "text": [
            "['even']\n"
          ]
        },
        {
          "output_type": "stream",
          "name": "stderr",
          "text": [
            "/usr/local/lib/python3.11/dist-packages/sklearn/utils/validation.py:2739: UserWarning: X does not have valid feature names, but DecisionTreeClassifier was fitted with feature names\n",
            "  warnings.warn(\n"
          ]
        }
      ]
    },
    {
      "cell_type": "code",
      "source": [
        "import pandas as pd\n",
        "from sklearn.tree import DecisionTreeClassifier\n",
        "\n",
        "df=pd.read_csv(\"weight_labels.csv\")\n",
        "X=df[[\"weight\"]]\n",
        "Y=df[\"label\"]\n",
        "\n",
        "model=DecisionTreeClassifier()\n",
        "\n",
        "model.fit(X,Y)\n",
        "\n",
        "\n",
        "print(model.predict([[86]]))"
      ],
      "metadata": {
        "id": "AO5O57-VScwv",
        "colab": {
          "base_uri": "https://localhost:8080/"
        },
        "outputId": "908834e9-5a5a-42ec-cc38-1bf5bc510e24"
      },
      "execution_count": 44,
      "outputs": [
        {
          "output_type": "stream",
          "name": "stdout",
          "text": [
            "['overweight']\n"
          ]
        },
        {
          "output_type": "stream",
          "name": "stderr",
          "text": [
            "/usr/local/lib/python3.11/dist-packages/sklearn/utils/validation.py:2739: UserWarning: X does not have valid feature names, but DecisionTreeClassifier was fitted with feature names\n",
            "  warnings.warn(\n"
          ]
        }
      ]
    },
    {
      "cell_type": "markdown",
      "source": [
        "HW DATASET PREDICT"
      ],
      "metadata": {
        "id": "1jMUX6RcTvM6"
      }
    },
    {
      "cell_type": "code",
      "source": [
        "df=pd.read_csv(\"mood_music_large.csv\")\n",
        "\n",
        "X=df[[\"bpm\"]]\n",
        "Y=df[\"mood\"]\n",
        "\n",
        "model=DecisionTreeClassifier()\n",
        "model.fit(X,Y)\n",
        "print(model.predict([[100]]))"
      ],
      "metadata": {
        "colab": {
          "base_uri": "https://localhost:8080/"
        },
        "id": "DU-Vf8CscSnp",
        "outputId": "97998e83-7c7f-4360-f6f1-42b07aa3cb2d"
      },
      "execution_count": 50,
      "outputs": [
        {
          "output_type": "stream",
          "name": "stdout",
          "text": [
            "['Happy']\n"
          ]
        },
        {
          "output_type": "stream",
          "name": "stderr",
          "text": [
            "/usr/local/lib/python3.11/dist-packages/sklearn/utils/validation.py:2739: UserWarning: X does not have valid feature names, but DecisionTreeClassifier was fitted with feature names\n",
            "  warnings.warn(\n"
          ]
        }
      ]
    }
  ]
}